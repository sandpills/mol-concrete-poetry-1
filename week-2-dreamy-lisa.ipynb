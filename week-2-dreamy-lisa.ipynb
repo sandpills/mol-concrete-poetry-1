{
 "cells": [
  {
   "cell_type": "code",
   "execution_count": 1,
   "metadata": {},
   "outputs": [],
   "source": [
    "import random"
   ]
  },
  {
   "cell_type": "markdown",
   "metadata": {},
   "source": [
    "<h3> Importing lyrics from \"Dreamy Lisa Salon\", by Wu Tiao Ren </h3>"
   ]
  },
  {
   "cell_type": "code",
   "execution_count": 2,
   "metadata": {},
   "outputs": [],
   "source": [
    "text = open(\"dreamylisasalon-2.txt\").read()"
   ]
  },
  {
   "cell_type": "code",
   "execution_count": 3,
   "metadata": {},
   "outputs": [],
   "source": [
    "print (text)"
   ]
  },
  {
   "cell_type": "code",
   "execution_count": 16,
   "metadata": {},
   "outputs": [
    {
     "data": {
      "text/plain": [
       "'风吹过石牌桥\\n我的忧伤该跟谁讲\\n天空挂着一轮红月亮\\n她来自梦幻丽莎发廊\\n她说她家里很穷很乡下\\n只有山和河没有别的工作\\n年轻的时候她被别人骗\\n被卖去一个陌生的地方\\n事情有点复杂我说简单点\\n后来她终于离开了那个鬼地方\\n可忧伤一直写在她脸上\\n但对未来还是充满希望\\n她想让我带她去海边\\n漫步在那柔软的沙滩上\\n让风吹走所有的忧伤\\n在椰子树下一觉到天亮\\n可是我家里也很穷很乡下\\n除了捕鱼和种田没有别的工作\\n现实和我说的差太远\\n她不知道我一直在撒谎\\n风吹过石牌桥\\n我的忧伤该跟谁讲\\n天空挂着一轮红月亮\\n我离开了梦幻丽莎发廊'"
      ]
     },
     "execution_count": 16,
     "metadata": {},
     "output_type": "execute_result"
    }
   ],
   "source": [
    "''.join([chr(ord(c)) for c in text])"
   ]
  },
  {
   "cell_type": "markdown",
   "metadata": {},
   "source": [
    "<h3> Finding out what's the \"largest\" character </h3> \n",
    "\n",
    "...and it appeared to be \"fish\""
   ]
  },
  {
   "cell_type": "code",
   "execution_count": 17,
   "metadata": {},
   "outputs": [
    {
     "data": {
      "text/plain": [
       "'鱼'"
      ]
     },
     "execution_count": 17,
     "metadata": {},
     "output_type": "execute_result"
    }
   ],
   "source": [
    "max(text)"
   ]
  },
  {
   "cell_type": "code",
   "execution_count": 6,
   "metadata": {},
   "outputs": [],
   "source": [
    "ord('风')"
   ]
  },
  {
   "cell_type": "markdown",
   "metadata": {},
   "source": [
    "<h3> Making random new poems from the texts </h3>\n"
   ]
  },
  {
   "cell_type": "code",
   "execution_count": 18,
   "metadata": {},
   "outputs": [
    {
     "name": "stdout",
     "output_type": "stream",
     "text": [
      "没和陌了海\n"
     ]
    }
   ],
   "source": [
    "selected = random.sample(text, 5)\n",
    "joined = ''.join(selected)\n",
    "print(joined)"
   ]
  },
  {
   "cell_type": "code",
   "execution_count": 19,
   "metadata": {},
   "outputs": [
    {
     "name": "stdout",
     "output_type": "stream",
     "text": [
      "伤轮那她漫\n",
      "作家我挂山\n",
      "家我滩陌个\n",
      "月忧\n",
      "风点\n",
      "未地来边现\n",
      "说地是于忧\n",
      "伤来月桥被\n",
      "离海\n",
      "只走\n"
     ]
    }
   ],
   "source": [
    "for i in range(8):\n",
    "    selected = random.sample(text, 5)\n",
    "    joined = ''.join(selected)\n",
    "    print(joined)"
   ]
  },
  {
   "cell_type": "markdown",
   "metadata": {},
   "source": [
    "<h3> Manipulating unicode </h3>\n",
    "\n",
    "Chinese characters are in the chart much later than other glyphs, so it's a bit hard to make anything out of it. First attempt (-10) looks like fake characters as if coming out from Xu Bing's work. Second attempt was interesting, and third attempt turned all the new line <i>\"\\n\"</i> into emojis, but not the rest."
   ]
  },
  {
   "cell_type": "code",
   "execution_count": 20,
   "metadata": {
    "scrolled": true
   },
   "outputs": [
    {
     "data": {
      "text/plain": [
       "'飄启辽矩牂桛\\x00戇発忝会诛跕请讨\\x00够穰拸眶䷶轤纘曾交\\x00奯杛臠梜幱丳莄叇廀\\x00奯诪奯宬釂彾穭彾乗丁\\x00叠替屧咂沩沗替刡発巛佒\\x00幪轱発旬倏奯袡刡亰骍\\x00袡卌厱䷶丠陂甕発圦斯\\x00亁悻替炯夃朸戇诪筶卋炯\\x00各杛奯纾亄禱延乼邙丠鬲圦斯\\x00句忝会䷶盪冏圞奯脮一\\x00似寯朠杛迎春儻滗市朑\\x00奯惩讟戇帜奯厱浭辯\\x00漡歛圞邙柊轥発沏滟一\\x00讟飄启赦戶替発忝会\\x00圞椦孆标丁䷶覿刦够交\\x00句春戇宬釂乕彾穭彾乗丁\\x00陚乼捋鱲咂秃甦沗替刡発巛佒\\x00玦宔咂戇诪発巤夠迒\\x00奯七矛遉戇䷶盪圞撈谄\\x00飄启辽矩牂桛\\x00戇発忝会诛跕请讨\\x00够穰拸眶䷶轤纘曾交\\x00戇禱延乼梜幱丳莄叇廀'"
      ]
     },
     "execution_count": 20,
     "metadata": {},
     "output_type": "execute_result"
    }
   ],
   "source": [
    "''.join([chr(ord(c) - 10) for c in text])"
   ]
  },
  {
   "cell_type": "code",
   "execution_count": 21,
   "metadata": {},
   "outputs": [
    {
     "data": {
      "text/plain": [
       "'☳ᔎ⏱᷼Დᨙ\\x02ᢄᶡ៹Ꮙ⋹⍷⌀⋬\\x02ᙊẞᣀ᷐ᎀ⏛ᾨᧂᎫ\\x02ᙞ᧙⁺ᨩឞᎏ⃣ᓴឲ\\x02ᙞ⋽ᙞ᛭⑳២ẝ២᎘ᎂ\\x02ᓺᧂ\\u171cᔣᬬᬨᧂᒊᶡ\\u1779Ꮧ\\x02ឝ⏞ᶡ\\u197dᐆᙞ∪ᒊᎮ⚥\\x02∪ᓕᓮᎀᎊ▓ᵇᶡᗌ\\u196e\\x02Ꭲᠱᧂᰮᙃ᧐ᢄ⋽Ỡᓕᰮ\\x02ᔃ᧙ᙞᾲᎣṮៀᎡ\\u2428ᎊ⛏ᗌ\\u196e\\x02ᓻ៹Ꮙᎀᶽᑦᗊᙞ⁎ᎂ\\x02Ꮡ\\u16fe\\u19ca᧙⏶ᦋᑑ᮸ឃᧆ\\x02ᙞᠼ⋪ᢄញᙞᓮ᭝⏮\\x02ᯊ\\u1ad9ᗊ\\u2428᧵⏛ᶡᬦᮺᎂ\\x02⋪☳ᔎ⍜ᢐᧂᶡ៹Ꮙ\\x02ᗊᩌᛔᨄᎂᎀ≲ᒌᙊᎫ\\x02ᓻᦋᢄ᛭⑳᎗២ẝ២᎘ᎂ\\x02▙Ꭱᣕ✟ᔣṳᵌᬨᧂᒊᶡ\\u1779Ꮧ\\x02ᳬᛧᔣᢄ⋽ᶡ\\u177bᙊ⏷\\x02ᙞᎃ᷹␔ᢄᎀᶽᗊᤤ⌃\\x02☳ᔎ⏱᷼Დᨙ\\x02ᢄᶡ៹Ꮙ⋹⍷⌀⋬\\x02ᙊẞᣀ᷐ᎀ⏛ᾨᧂᎫ\\x02ᢄṮៀᎡᨩឞᎏ⃣ᓴឲ'"
      ]
     },
     "execution_count": 21,
     "metadata": {},
     "output_type": "execute_result"
    }
   ],
   "source": [
    "''.join([chr(ord(c) // 4) for c in text])"
   ]
  },
  {
   "cell_type": "code",
   "execution_count": 22,
   "metadata": {},
   "outputs": [
    {
     "data": {
      "text/plain": [
       "'𨯓𤜾𨋌𦫸𦕑𥭪🌏𥔖𦦉𥋬𤈩𧻪𨃤𧼆𧺷🌏𤰮𦵿𥘇𦩅𤄅𨉳𧆧𥨍𤆳🌏𤱾𥩪𧓯𥮫𥆀𤅂𧚓𤛖𥇏🌏𤱾𧻹𤱾𤺻𨓑𥊍𦵼𥊍𤅦𤄐🌏𤛯𥨎𤽶𤞑𥾸𥾦𥨎𤔰𦦉𥃪𤉡🌏𥅹𨊀𦦉𥣻𤌞𤱾𧮰𤔰𤆿𨶜🌏𧮰𤙛𤛀𤄅𤄯𨥑𦠤𦦉𤨵𥢾🌏𤆐𥏊𥨎𦎾𤰒𥩇𥔖𧻹𦺅𤙚𦎾🌏𤜓𥩪𤱾𧇍𤆓𦳀𥈅𤆋𨎨𤄯𨹁𤨵𥢾🌏𤛴𥋬𤈩𤄅𦧹𤒞𤨭𤱾𧐽𤄏🌏𤉋𤻾𥨯𥩪𨋝𥤴𤑊𦇦𥄑𥨠🌏𤱾𥏸𧺮𥔖𥄫𤱾𤛀𦁼𨊾🌏𦈰𥹪𤨭𨎨𥫙𨉴𦦉𥾞𦇮𤄏🌏𧺮𨯓𤜾𨁵𥕅𥨎𦦉𥋬𤈩🌏𤨭𥰵𤹕𥬖𤄐𤄅𧳎𤔵𤰮𤆳🌏𤛴𥤴𥔖𤺻𨓑𤅤𥊍𦵼𥊍𤅦𤄐🌏𨥩𤆋𥙚𨾁𤞑𦳒𦠵𥾦𥨎𤔰𦦉𥃪𤉡🌏𦚵𤺣𤞑𥔖𧻹𦦉𥃳𤰯𨋡🌏𤱾𤄒𦫪𨍘𥔖𤄅𦧹𤨭𥞗𧼓🌏𨯓𤜾𨋌𦫸𦕑𥭪🌏𥔖𦦉𥋬𤈩𧻪𨃤𧼆𧺷🌏𤰮𦵿𥘇𦩅𤄅𨉳𧆧𥨍𤆳🌏𥔖𦳀𥈅𤆋𥮫𥆀𤅂𧚓𤛖𥇏'"
      ]
     },
     "execution_count": 22,
     "metadata": {},
     "output_type": "execute_result"
    }
   ],
   "source": [
    "''.join([chr(ord(c) + 0X1F305) for c in text])"
   ]
  },
  {
   "cell_type": "markdown",
   "metadata": {},
   "source": [
    "<h3>Same lyrics, with space</h3>\n",
    "\n",
    "I realized that Chinese characters are intrepreted differently than English words because of the lack of space. I manually added spaces to the lyrics wanting to see if there's any difference."
   ]
  },
  {
   "cell_type": "code",
   "execution_count": 12,
   "metadata": {},
   "outputs": [],
   "source": [
    "spacetext = open(\"dreamylisasalon.txt\").read()"
   ]
  },
  {
   "cell_type": "code",
   "execution_count": 23,
   "metadata": {},
   "outputs": [
    {
     "name": "stdout",
     "output_type": "stream",
     "text": [
      "风 吹 过 石 牌 桥\n",
      "我 的 忧 伤 该 跟 谁 讲\n",
      "天 空 挂 着 一 轮 红 月 亮\n",
      "她 来 自 梦 幻 丽 莎 发 廊\n",
      "她 说 她 家 里 很 穷 很 乡 下\n",
      "只 有 山 和 河 没 有 别 的 工 作\n",
      "年 轻 的 时 候 她 被 别 人 骗\n",
      "被 卖 去 一 个 陌 生 的 地 方\n",
      "事 情 有 点 复 杂 我 说 简 单 点\n",
      "后 来 她 终 于 离 开 了 那 个 鬼 地 方\n",
      "可 忧 伤 一 直 写 在 她 脸 上\n",
      "但 对 未 来 还 是 充 满 希 望\n",
      "她 想 让 我 带 她 去 海 边\n",
      "漫 步 在 那 柔 软 的 沙 滩 上\n",
      "让 风 吹 走 所 有 的 忧 伤\n",
      "在 椰 子 树 下 一 觉 到 天 亮\n",
      "可 是 我 家 里 也 很 穷 很 乡 下\n",
      "除 了 捕 鱼 和 种 田 没 有 别 的 工 作\n",
      "现 实 和 我 说 的 差 太 远\n",
      "她 不 知 道 我 一 直 在 撒 谎\n",
      "风 吹 过 石 牌 桥\n",
      "我 的 忧 伤 该 跟 谁 讲\n",
      "天 空 挂 着 一 轮 红 月 亮\n",
      "我 离 开 了 梦 幻 丽 莎 发 廊\n"
     ]
    }
   ],
   "source": [
    "print (spacetext)"
   ]
  },
  {
   "cell_type": "code",
   "execution_count": 14,
   "metadata": {},
   "outputs": [
    {
     "data": {
      "text/plain": [
       "['风',\n",
       " '吹',\n",
       " '过',\n",
       " '石',\n",
       " '牌',\n",
       " '桥',\n",
       " '我',\n",
       " '的',\n",
       " '忧',\n",
       " '伤',\n",
       " '该',\n",
       " '跟',\n",
       " '谁',\n",
       " '讲',\n",
       " '天',\n",
       " '空',\n",
       " '挂',\n",
       " '着',\n",
       " '一',\n",
       " '轮',\n",
       " '红',\n",
       " '月',\n",
       " '亮',\n",
       " '她',\n",
       " '来',\n",
       " '自',\n",
       " '梦',\n",
       " '幻',\n",
       " '丽',\n",
       " '莎',\n",
       " '发',\n",
       " '廊',\n",
       " '她',\n",
       " '说',\n",
       " '她',\n",
       " '家',\n",
       " '里',\n",
       " '很',\n",
       " '穷',\n",
       " '很',\n",
       " '乡',\n",
       " '下',\n",
       " '只',\n",
       " '有',\n",
       " '山',\n",
       " '和',\n",
       " '河',\n",
       " '没',\n",
       " '有',\n",
       " '别',\n",
       " '的',\n",
       " '工',\n",
       " '作',\n",
       " '年',\n",
       " '轻',\n",
       " '的',\n",
       " '时',\n",
       " '候',\n",
       " '她',\n",
       " '被',\n",
       " '别',\n",
       " '人',\n",
       " '骗',\n",
       " '被',\n",
       " '卖',\n",
       " '去',\n",
       " '一',\n",
       " '个',\n",
       " '陌',\n",
       " '生',\n",
       " '的',\n",
       " '地',\n",
       " '方',\n",
       " '事',\n",
       " '情',\n",
       " '有',\n",
       " '点',\n",
       " '复',\n",
       " '杂',\n",
       " '我',\n",
       " '说',\n",
       " '简',\n",
       " '单',\n",
       " '点',\n",
       " '后',\n",
       " '来',\n",
       " '她',\n",
       " '终',\n",
       " '于',\n",
       " '离',\n",
       " '开',\n",
       " '了',\n",
       " '那',\n",
       " '个',\n",
       " '鬼',\n",
       " '地',\n",
       " '方',\n",
       " '可',\n",
       " '忧',\n",
       " '伤',\n",
       " '一',\n",
       " '直',\n",
       " '写',\n",
       " '在',\n",
       " '她',\n",
       " '脸',\n",
       " '上',\n",
       " '但',\n",
       " '对',\n",
       " '未',\n",
       " '来',\n",
       " '还',\n",
       " '是',\n",
       " '充',\n",
       " '满',\n",
       " '希',\n",
       " '望',\n",
       " '她',\n",
       " '想',\n",
       " '让',\n",
       " '我',\n",
       " '带',\n",
       " '她',\n",
       " '去',\n",
       " '海',\n",
       " '边',\n",
       " '漫',\n",
       " '步',\n",
       " '在',\n",
       " '那',\n",
       " '柔',\n",
       " '软',\n",
       " '的',\n",
       " '沙',\n",
       " '滩',\n",
       " '上',\n",
       " '让',\n",
       " '风',\n",
       " '吹',\n",
       " '走',\n",
       " '所',\n",
       " '有',\n",
       " '的',\n",
       " '忧',\n",
       " '伤',\n",
       " '在',\n",
       " '椰',\n",
       " '子',\n",
       " '树',\n",
       " '下',\n",
       " '一',\n",
       " '觉',\n",
       " '到',\n",
       " '天',\n",
       " '亮',\n",
       " '可',\n",
       " '是',\n",
       " '我',\n",
       " '家',\n",
       " '里',\n",
       " '也',\n",
       " '很',\n",
       " '穷',\n",
       " '很',\n",
       " '乡',\n",
       " '下',\n",
       " '除',\n",
       " '了',\n",
       " '捕',\n",
       " '鱼',\n",
       " '和',\n",
       " '种',\n",
       " '田',\n",
       " '没',\n",
       " '有',\n",
       " '别',\n",
       " '的',\n",
       " '工',\n",
       " '作',\n",
       " '现',\n",
       " '实',\n",
       " '和',\n",
       " '我',\n",
       " '说',\n",
       " '的',\n",
       " '差',\n",
       " '太',\n",
       " '远',\n",
       " '她',\n",
       " '不',\n",
       " '知',\n",
       " '道',\n",
       " '我',\n",
       " '一',\n",
       " '直',\n",
       " '在',\n",
       " '撒',\n",
       " '谎',\n",
       " '风',\n",
       " '吹',\n",
       " '过',\n",
       " '石',\n",
       " '牌',\n",
       " '桥',\n",
       " '我',\n",
       " '的',\n",
       " '忧',\n",
       " '伤',\n",
       " '该',\n",
       " '跟',\n",
       " '谁',\n",
       " '讲',\n",
       " '天',\n",
       " '空',\n",
       " '挂',\n",
       " '着',\n",
       " '一',\n",
       " '轮',\n",
       " '红',\n",
       " '月',\n",
       " '亮',\n",
       " '我',\n",
       " '离',\n",
       " '开',\n",
       " '了',\n",
       " '梦',\n",
       " '幻',\n",
       " '丽',\n",
       " '莎',\n",
       " '发',\n",
       " '廊']"
      ]
     },
     "execution_count": 14,
     "metadata": {},
     "output_type": "execute_result"
    }
   ],
   "source": [
    "spacetext.split()"
   ]
  },
  {
   "cell_type": "code",
   "execution_count": 15,
   "metadata": {},
   "outputs": [
    {
     "data": {
      "text/plain": [
       "'𨯎🌠𤜹🌠𨋇🌠𦫳🌠𦕌🌠𥭥🌊𥔑🌠𦦄🌠𥋧🌠𤈤🌠𧻥🌠𨃟🌠𧼁🌠𧺲🌊𤰩🌠𦵺🌠𥘂🌠𦩀🌠𤄀🌠𨉮🌠𧆢🌠𥨈🌠𤆮🌊𤱹🌠𥩥🌠𧓪🌠𥮦🌠𥅻🌠𤄽🌠𧚎🌠𤛑🌠𥇊🌊𤱹🌠𧻴🌠𤱹🌠𤺶🌠𨓌🌠𥊈🌠𦵷🌠𥊈🌠𤅡🌠𤄋🌊𤛪🌠𥨉🌠𤽱🌠𤞌🌠𥾳🌠𥾡🌠𥨉🌠𤔫🌠𦦄🌠𥃥🌠𤉜🌊𥅴🌠𨉻🌠𦦄🌠𥣶🌠𤌙🌠𤱹🌠𧮫🌠𤔫🌠𤆺🌠𨶗🌊𧮫🌠𤙖🌠𤚻🌠𤄀🌠𤄪🌠𨥌🌠𦠟🌠𦦄🌠𤨰🌠𥢹🌊𤆋🌠𥏅🌠𥨉🌠𦎹🌠𤰍🌠𥩂🌠𥔑🌠𧻴🌠𦺀🌠𤙕🌠𦎹🌊𤜎🌠𥩥🌠𤱹🌠𧇈🌠𤆎🌠𦲻🌠𥈀🌠𤆆🌠𨎣🌠𤄪🌠𨸼🌠𤨰🌠𥢹🌊𤛯🌠𥋧🌠𤈤🌠𤄀🌠𦧴🌠𤒙🌠𤨨🌠𤱹🌠𧐸🌠𤄊🌊𤉆🌠𤻹🌠𥨪🌠𥩥🌠𨋘🌠𥤯🌠𤑅🌠𦇡🌠𥄌🌠𥨛🌊𤱹🌠𥏳🌠𧺩🌠𥔑🌠𥄦🌠𤱹🌠𤚻🌠𦁷🌠𨊹🌊𦈫🌠𥹥🌠𤨨🌠𨎣🌠𥫔🌠𨉯🌠𦦄🌠𥾙🌠𦇩🌠𤄊🌊𧺩🌠𨯎🌠𤜹🌠𨁰🌠𥕀🌠𥨉🌠𦦄🌠𥋧🌠𤈤🌊𤨨🌠𥰰🌠𤹐🌠𥬑🌠𤄋🌠𤄀🌠𧳉🌠𤔰🌠𤰩🌠𤆮🌊𤛯🌠𥤯🌠𥔑🌠𤺶🌠𨓌🌠𤅟🌠𥊈🌠𦵷🌠𥊈🌠𤅡🌠𤄋🌊𨥤🌠𤆆🌠𥙕🌠𨽼🌠𤞌🌠𦳍🌠𦠰🌠𥾡🌠𥨉🌠𤔫🌠𦦄🌠𥃥🌠𤉜🌊𦚰🌠𤺞🌠𤞌🌠𥔑🌠𧻴🌠𦦄🌠𥃮🌠𤰪🌠𨋜🌊𤱹🌠𤄍🌠𦫥🌠𨍓🌠𥔑🌠𤄀🌠𦧴🌠𤨨🌠𥞒🌠𧼎🌊𨯎🌠𤜹🌠𨋇🌠𦫳🌠𦕌🌠𥭥🌊𥔑🌠𦦄🌠𥋧🌠𤈤🌠𧻥🌠𨃟🌠𧼁🌠𧺲🌊𤰩🌠𦵺🌠𥘂🌠𦩀🌠𤄀🌠𨉮🌠𧆢🌠𥨈🌠𤆮🌊𥔑🌠𦲻🌠𥈀🌠𤆆🌠𥮦🌠𥅻🌠𤄽🌠𧚎🌠𤛑🌠𥇊'"
      ]
     },
     "execution_count": 15,
     "metadata": {},
     "output_type": "execute_result"
    }
   ],
   "source": [
    "''.join([chr(ord(c) + 0x1F300) for c in spacetext])"
   ]
  }
 ],
 "metadata": {
  "kernelspec": {
   "display_name": "Python 3",
   "language": "python",
   "name": "python3"
  },
  "language_info": {
   "codemirror_mode": {
    "name": "ipython",
    "version": 3
   },
   "file_extension": ".py",
   "mimetype": "text/x-python",
   "name": "python",
   "nbconvert_exporter": "python",
   "pygments_lexer": "ipython3",
   "version": "3.8.5"
  }
 },
 "nbformat": 4,
 "nbformat_minor": 4
}
